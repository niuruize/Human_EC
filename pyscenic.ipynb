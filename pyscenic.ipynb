{
 "cells": [
  {
   "cell_type": "code",
   "execution_count": null,
   "id": "65b335d1",
   "metadata": {},
   "outputs": [],
   "source": [
    "cd /Users/niuruize/Downloads/scRNA/EC/EC/17_pyscenic"
   ]
  },
  {
   "cell_type": "code",
   "execution_count": null,
   "id": "7cc986a2",
   "metadata": {},
   "outputs": [],
   "source": [
    "import scanpy as sc\n",
    "import anndata\n",
    "from scipy import io\n",
    "from scipy.sparse import coo_matrix, csr_matrix\n",
    "import numpy as np\n",
    "import os\n",
    "import pandas as pd\n",
    "sc.settings.verbosity = 3\n",
    "sc.logging.print_versions()\n",
    "sc.set_figure_params(dpi=300,fontsize=10,dpi_save=600)\n"
   ]
  },
  {
   "cell_type": "code",
   "execution_count": null,
   "id": "303234da",
   "metadata": {},
   "outputs": [],
   "source": [
    "#在python中构建adata\n",
    "#因为文件比较多，如多一个步骤一个步骤的修改很容易出错，所以我们把这个过程封装为一个函数\n",
    "def seurat_to_adata(counts,#R中导出的counts.mtx文件\n",
    "                   meta,#R中导出的metadata.csv文件\n",
    "                   gene_name,#R中导出的gene_names.csv文件\n",
    "                   pca,#R中导出的pca.csv文件\n",
    "                   reduction1,#TSNE数据为TSNE_1，UMAP数据为UMAP_1\n",
    "                   reduction2):#TSNE数据为TSNE_2，UMAP数据为UMAP_2\n",
    "    # 加载表达矩阵\n",
    "    X = io.mmread(counts)\n",
    "    # 创建anndata\n",
    "    adata = anndata.AnnData(X=X.transpose().tocsr())\n",
    "    cell_meta = pd.read_csv(meta)#metadata\n",
    "    with open(gene_name, 'r') as f:gene_names = f.read().splitlines()\n",
    "    adata.obs = cell_meta\n",
    "    adata.obs.index = adata.obs['barcode']\n",
    "    adata.var.index = gene_names\n",
    "    pca = pd.read_csv(pca)\n",
    "    pca.index = adata.obs.index\n",
    "    adata.obsm['X_pca'] = pca.to_numpy()\n",
    "    adata.obsm['X_tsne'] = np.vstack((adata.obs[reduction1].to_numpy(), adata.obs[reduction2].to_numpy())).T\n",
    "    return adata"
   ]
  },
  {
   "cell_type": "code",
   "execution_count": null,
   "id": "90dd9670",
   "metadata": {},
   "outputs": [],
   "source": [
    "sce_test=seurat_to_adata(counts='./seurat_counts.mtx',\n",
    "                        meta='./seurat_metadata.csv',\n",
    "                        gene_name='./seurat_gene_names.csv',\n",
    "                        pca='./seurat_pca.csv',\n",
    "                        reduction1='TSNE_1',reduction2='TSNE_2')"
   ]
  },
  {
   "cell_type": "code",
   "execution_count": null,
   "id": "1c3860a9",
   "metadata": {},
   "outputs": [],
   "source": [
    "#看一下重构的数据是否正常\n",
    "sce_test"
   ]
  },
  {
   "cell_type": "code",
   "execution_count": null,
   "id": "681fee1c",
   "metadata": {},
   "outputs": [],
   "source": [
    "#看一下聚类图和marker基因气泡图，发现是可以的，没问题。这个对象就可以在python使用scanpy进行任何你需要的分析了\n",
    "sc.pl.tsne(sce_test, color=['Organ'], frameon=False)\n",
    "sc.pl.DotPlot(sce_test, [\"MGP\",\"PLPP1\",\"PCSK5\",\"ARL15\",\"IGFBP3\",\"VEGFC\",\"MECOM\",\n",
    "                     \"ACKR1\",\"CCL14\",\"TLL1\",\"FAM155A\",\"CLU\",\"ZNF385D\",\"IL1R1\",\n",
    "                     \"RGCC\",\"BTNL9\",\"ITGA1\",\"CCL21\",\"MMRN1\",\"RELN\",\"LYVE1\",\"TFPI\",\"PROX1\",\"TSPAN5\",\"COLEC12\"], \n",
    "              log = True, groupby='Organ').style(cmap='PRGn',dot_edge_color='black', dot_edge_lw=1).swap_axes(False).show(True)"
   ]
  },
  {
   "cell_type": "code",
   "execution_count": null,
   "id": "1d3b0577",
   "metadata": {},
   "outputs": [],
   "source": [
    "#保存构建好的数据\n",
    "sce_test.write('sce_test.h5ad')"
   ]
  },
  {
   "cell_type": "code",
   "execution_count": null,
   "id": "83bc854e",
   "metadata": {},
   "outputs": [],
   "source": [
    "#==========================================================================================================================\n",
    "#                                         pySCENIC下游分析\n",
    "#==========================================================================================================================\n",
    "#接下来我们就进行下游分析，主要是一些在python中的数据提取操作和可视化的内容"
   ]
  },
  {
   "cell_type": "code",
   "execution_count": null,
   "id": "f5144f5d",
   "metadata": {},
   "outputs": [],
   "source": [
    "# import dependencies\n",
    "import loompy as lp\n",
    "from MulticoreTSNE import MulticoreTSNE as TSNE\n",
    "import json\n",
    "import base64\n",
    "import zlib\n",
    "from pyscenic.plotting import plot_binarization\n",
    "from pyscenic.export import add_scenic_metadata\n",
    "import seaborn as sns\n",
    "import matplotlib as mpl\n",
    "import matplotlib.pyplot as plt"
   ]
  },
  {
   "cell_type": "code",
   "execution_count": null,
   "id": "b0f6c079",
   "metadata": {},
   "outputs": [],
   "source": [
    "pip install MulticoreTSNE"
   ]
  },
  {
   "cell_type": "code",
   "execution_count": null,
   "id": "af968450",
   "metadata": {},
   "outputs": [],
   "source": [
    "# 读入我们之前分析好的loom文件，与单细胞对象结合\n",
    "sample_SCENIC = 'sample_SCENIC.loom'"
   ]
  }
 ],
 "metadata": {
  "kernelspec": {
   "display_name": "Python 3 (ipykernel)",
   "language": "python",
   "name": "python3"
  },
  "language_info": {
   "codemirror_mode": {
    "name": "ipython",
    "version": 3
   },
   "file_extension": ".py",
   "mimetype": "text/x-python",
   "name": "python",
   "nbconvert_exporter": "python",
   "pygments_lexer": "ipython3",
   "version": "3.8.17"
  }
 },
 "nbformat": 4,
 "nbformat_minor": 5
}
